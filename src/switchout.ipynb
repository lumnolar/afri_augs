import tensorflow as tf
import numpy as np

def hamming_distance_sample(sentence, temperature, vocabulary):
    # The partition function Z(⌧) for the Hamming Distance Sampling
    partition_function = tf.reduce_sum(tf.exp(tf.range(tf.size(sentence), dtype=tf.float32) / temperature))

    # Calculating probabilities for each position in the sentence
    probabilities = tf.exp(tf.range(tf.size(sentence), dtype=tf.float32) / temperature) / partition_function

    # Sampling a position using the categorical distribution defined by the probabilities
    sampled_positions = tf.random.categorical(tf.math.log([probabilities]), 1)[0, 0]

    # Creating a mask for the switch-out based on the sampled position
    switchout_mask = tf.cast(tf.random.uniform(tf.shape(sentence)) < (probabilities[sampled_positions] / tf.size(sentence)), tf.int32)
    
    # Sampling the sentence: if switchout_mask is 1, replace the position with a word from the vocabulary; otherwise, keep the original word
    sampled_sentence = tf.where(switchout_mask == 1, tf.random.categorical(tf.math.log([1 / tf.size(vocabulary)]), 1)[0, 0], sentence)

    return sampled_sentence

# Test Usage:
sentence_1 = tf.constant([1, 2, 3, 4, 5], dtype=tf.int32)
temperature_1 = 0.5
vocabulary_1 = [0, 1, 2, 3, 4, 5, 6]

result_1 = hamming_distance_sample(sentence_1, temperature_1, vocabulary_1)
print(result_1.numpy())
